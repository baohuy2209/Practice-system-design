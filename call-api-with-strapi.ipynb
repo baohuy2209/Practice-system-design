{
 "cells": [
  {
   "cell_type": "code",
   "execution_count": 9,
   "id": "e2f5958f",
   "metadata": {},
   "outputs": [],
   "source": [
    "import requests\n",
    "API_URL = \"https://sad1.data4life.top/api/\"\n",
    "TOKEN = \"957c61fe15c0cf9c88f432c5cf3a42859d55491693d7af931ae5ba2d8e4a02fe5b6a1a7c1b7a8614928c81c150d619a8988a2e9dc504a57150e613df533a58823bcca6d5ccb1e0dcdb1535912b0fd7a141e70d0d002f0098a09ae8aca931547f27d5b5d30a498cc06adccba32b650c135a12e942c7df7668eeb4daabd5a0f60a\"\n",
    "headers = {\"Authorization\": f\"Bearer {TOKEN}\", \"Content-Type\": \"application/json\"}"
   ]
  },
  {
   "cell_type": "code",
   "execution_count": 10,
   "id": "45d8158e",
   "metadata": {},
   "outputs": [
    {
     "data": {
      "text/plain": [
       "{'data': [{'id': 3,\n",
       "   'documentId': 'z1f0s75x1lx8au2vj8hrn6ag',\n",
       "   'BookId': '1',\n",
       "   'Name': 'Python Crash Course ',\n",
       "   'PublishDate': '2025-04-26',\n",
       "   'createdAt': '2025-04-26T02:38:25.399Z',\n",
       "   'updatedAt': '2025-04-26T02:38:25.399Z',\n",
       "   'publishedAt': '2025-05-09T03:21:40.361Z'},\n",
       "  {'id': 4,\n",
       "   'documentId': 'qmffe5y3pe78uy9s79waulho',\n",
       "   'BookId': '2',\n",
       "   'Name': 'The Python DataScience Book ',\n",
       "   'PublishDate': '2025-04-16',\n",
       "   'createdAt': '2025-04-26T02:38:59.233Z',\n",
       "   'updatedAt': '2025-04-26T02:38:59.233Z',\n",
       "   'publishedAt': '2025-05-09T03:21:40.364Z'}],\n",
       " 'meta': {'pagination': {'page': 1,\n",
       "   'pageSize': 25,\n",
       "   'pageCount': 1,\n",
       "   'total': 2}}}"
      ]
     },
     "execution_count": 10,
     "metadata": {},
     "output_type": "execute_result"
    }
   ],
   "source": [
    "response = requests.get(API_URL+\"books\", headers=headers)\n",
    "response.json()"
   ]
  },
  {
   "cell_type": "code",
   "execution_count": 12,
   "id": "6f941e75",
   "metadata": {},
   "outputs": [
    {
     "data": {
      "text/plain": [
       "{'data': {'id': 3,\n",
       "  'documentId': 'z1f0s75x1lx8au2vj8hrn6ag',\n",
       "  'BookId': '1',\n",
       "  'Name': 'Python Crash Course ',\n",
       "  'PublishDate': '2025-04-26',\n",
       "  'createdAt': '2025-04-26T02:38:25.399Z',\n",
       "  'updatedAt': '2025-04-26T02:38:25.399Z',\n",
       "  'publishedAt': '2025-05-09T03:21:40.361Z'},\n",
       " 'meta': {}}"
      ]
     },
     "execution_count": 12,
     "metadata": {},
     "output_type": "execute_result"
    }
   ],
   "source": [
    "documentId = \"z1f0s75x1lx8au2vj8hrn6ag\"\n",
    "response =requests.get(API_URL+f\"books/{documentId}\")\n",
    "response.json()"
   ]
  },
  {
   "cell_type": "code",
   "execution_count": 15,
   "id": "8a2487c6",
   "metadata": {},
   "outputs": [
    {
     "data": {
      "text/plain": [
       "{'data': {'id': 6,\n",
       "  'documentId': 'cil9l09j2a4sh6vj620yjr7d',\n",
       "  'BookId': '3',\n",
       "  'Name': 'The Clean Coder',\n",
       "  'PublishDate': '2025-05-09',\n",
       "  'createdAt': '2025-05-09T03:39:12.183Z',\n",
       "  'updatedAt': '2025-05-09T03:39:12.183Z',\n",
       "  'publishedAt': '2025-05-09T03:39:12.187Z'},\n",
       " 'meta': {}}"
      ]
     },
     "execution_count": 15,
     "metadata": {},
     "output_type": "execute_result"
    }
   ],
   "source": [
    "new_entry = {\n",
    "  \"data\": {\n",
    "    \"BookId\": \"3\",\n",
    "    \"Name\": \"The Clean Coder\",\n",
    "    \"PublishDate\": \"2025-05-09\",\n",
    "    \"locale\": \"US\",\n",
    "  }\n",
    "}\n",
    "response = requests.post(API_URL+\"books\", json=new_entry, headers=headers)\n",
    "response.json()"
   ]
  },
  {
   "cell_type": "code",
   "execution_count": 16,
   "id": "08369617",
   "metadata": {},
   "outputs": [
    {
     "data": {
      "text/plain": [
       "{'data': {'id': 7,\n",
       "  'documentId': 'cil9l09j2a4sh6vj620yjr7d',\n",
       "  'BookId': '3',\n",
       "  'Name': 'The Clean Coder',\n",
       "  'PublishDate': '2025-05-07',\n",
       "  'createdAt': '2025-05-09T03:39:12.183Z',\n",
       "  'updatedAt': '2025-05-09T03:42:05.436Z',\n",
       "  'publishedAt': '2025-05-09T03:42:05.441Z'},\n",
       " 'meta': {}}"
      ]
     },
     "execution_count": 16,
     "metadata": {},
     "output_type": "execute_result"
    }
   ],
   "source": [
    "edit_data = {\n",
    "  \"data\": {\n",
    "    \"PublishDate\": \"2025-05-07\",\n",
    "  }\n",
    "}\n",
    "id = \"cil9l09j2a4sh6vj620yjr7d\"\n",
    "response = requests.put(API_URL+f\"books/{id}\", json=edit_data, headers=headers)\n",
    "response.json()"
   ]
  },
  {
   "cell_type": "code",
   "execution_count": 18,
   "id": "f928f515",
   "metadata": {},
   "outputs": [],
   "source": [
    "response = requests.delete(API_URL+f\"books/{id}\", headers=headers)\n"
   ]
  },
  {
   "cell_type": "code",
   "execution_count": 19,
   "id": "476421db",
   "metadata": {},
   "outputs": [
    {
     "data": {
      "text/plain": [
       "''"
      ]
     },
     "execution_count": 19,
     "metadata": {},
     "output_type": "execute_result"
    }
   ],
   "source": [
    "response.text"
   ]
  },
  {
   "cell_type": "code",
   "execution_count": null,
   "id": "7fc9b013",
   "metadata": {},
   "outputs": [],
   "source": []
  }
 ],
 "metadata": {
  "kernelspec": {
   "display_name": "base",
   "language": "python",
   "name": "python3"
  },
  "language_info": {
   "codemirror_mode": {
    "name": "ipython",
    "version": 3
   },
   "file_extension": ".py",
   "mimetype": "text/x-python",
   "name": "python",
   "nbconvert_exporter": "python",
   "pygments_lexer": "ipython3",
   "version": "3.12.4"
  }
 },
 "nbformat": 4,
 "nbformat_minor": 5
}
