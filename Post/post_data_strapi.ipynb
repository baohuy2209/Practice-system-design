{
 "cells": [
  {
   "cell_type": "markdown",
   "id": "00c91112",
   "metadata": {},
   "source": [
    "## POST DATA TO STRAPI  "
   ]
  },
  {
   "cell_type": "code",
   "execution_count": 1,
   "id": "a2eb9af2",
   "metadata": {},
   "outputs": [],
   "source": [
    "import requests\n",
    "API_URL = \"https://sad1.data4life.top/api/\"\n",
    "TOKEN = \"106dad8048b81fb9bc83e5ca3132ec207c35bd661d70241aa3cce1379df25793e85c48b34f8c686786ebccccadbf32b93500a6b3f562c0f10439f6d6deb3e56202bd837e2d2305c528526bbba1d715f1850156f65972e133dd4c1ad45d7d1129209e3a4b097a5bb12500d57d20f5ef15eb9c726f3d77300a0cd18dd67ac22482\"\n",
    "headers = {\"Authorization\": f\"Bearer {TOKEN}\", \"Content-Type\": \"application/json\"}"
   ]
  },
  {
   "cell_type": "code",
   "execution_count": 2,
   "id": "e2186ef1",
   "metadata": {},
   "outputs": [
    {
     "data": {
      "text/plain": [
       "[{'id': 2,\n",
       "  'documentId': 'kd6pmxcye6arltkcgy97gv65',\n",
       "  'description': 'Mượn cho phòng học A.809',\n",
       "  'createdAt': '2025-06-02T20:47:56.329Z',\n",
       "  'updatedAt': '2025-06-02T20:47:58.872Z',\n",
       "  'publishedAt': '2025-06-02T20:47:58.889Z',\n",
       "  'timeborrow': None,\n",
       "  'studentcode': None,\n",
       "  'studentname': None,\n",
       "  'class': None,\n",
       "  'major': None,\n",
       "  'faculty': None,\n",
       "  'borrow_details': [{'id': 9,\n",
       "    'documentId': 's8iw4pjb8mwnida65jim1oxs',\n",
       "    'createdAt': '2025-06-02T20:49:21.540Z',\n",
       "    'updatedAt': '2025-06-02T20:49:23.347Z',\n",
       "    'publishedAt': '2025-06-02T20:49:23.362Z',\n",
       "    'stt': '1',\n",
       "    'quantity': None,\n",
       "    'publishdate': None,\n",
       "    'plannedtimereturn': None,\n",
       "    'equipmentname': None,\n",
       "    'roomname': None},\n",
       "   {'id': 11,\n",
       "    'documentId': 'quiuwuep7pwip4ttokpnpna5',\n",
       "    'createdAt': '2025-06-02T20:56:35.173Z',\n",
       "    'updatedAt': '2025-06-02T20:56:35.173Z',\n",
       "    'publishedAt': '2025-06-02T20:56:35.191Z',\n",
       "    'stt': '2',\n",
       "    'quantity': None,\n",
       "    'publishdate': None,\n",
       "    'plannedtimereturn': None,\n",
       "    'equipmentname': None,\n",
       "    'roomname': None}],\n",
       "  'student': None,\n",
       "  'approval_vote': None,\n",
       "  'equipment_receipt': None,\n",
       "  'report_violate': None}]"
      ]
     },
     "execution_count": 2,
     "metadata": {},
     "output_type": "execute_result"
    }
   ],
   "source": [
    "response = requests.get(API_URL+\"borrow-requests?populate=*\", headers=headers)\n",
    "response.json()['data']"
   ]
  },
  {
   "cell_type": "code",
   "execution_count": null,
   "id": "433a7a34",
   "metadata": {},
   "outputs": [],
   "source": [
    "new_entry= {\n",
    "  \"data\": [\n",
    "    {\n",
    "    \"name\": \"Nguyễn Bảo Huy\",\n",
    "    \"phone\": \"0375686583\",\n",
    "    \"address\": \"Phú Yên\",\n",
    "    \"gender\": \"Nữ\",\n",
    "    \"dob\": \"2004-06-02\",\n",
    "    \"typeuser\": \"Student\",\n",
    "    \"lastlogin\": \"2025-06-02T16:14:08.267Z\",\n",
    "    \"isverified\": False,\n",
    "    \"resetpasswordtoken\": \"\",\n",
    "    \"resetpasswordexpireat\": \"2025-06-02T16:14:08.267Z\",\n",
    "    \"verificationtoken\": \"\",\n",
    "    \"verificationtokenexpireat\": \"2025-06-02T16:14:08.267Z\",\n",
    "    \"password\": \"123456\",\n",
    "    \"avatar\": \"\",\n",
    "    \"studentcode\": \"K234111435\",\n",
    "    \"faculty\": \"FIS\",\n",
    "    \"numberviolations\": 8,\n",
    "    \"major\": \"E-commerce\",\n",
    "    \"class\": \"K23411\",\n",
    "    \"borrow_requests\": [],\n",
    "    \"email\": \"huynguyen002311@gmail.com\",\n",
    "    \"locale\": \"US\",\n",
    "  },\n",
    "  {\n",
    "      \n",
    "  }\n",
    "],\n",
    "}"
   ]
  },
  {
   "cell_type": "code",
   "execution_count": 4,
   "id": "6ad76cad",
   "metadata": {},
   "outputs": [],
   "source": [
    "# response = requests.post(API_URL+\"students\", json=new_entry, headers=headers)\n",
    "# response.json()"
   ]
  },
  {
   "cell_type": "code",
   "execution_count": 14,
   "id": "1860ae59",
   "metadata": {},
   "outputs": [],
   "source": [
    "list_mgs = [\n",
    "  {\n",
    "    \"name\": \"Phan Gia Huy\",\n",
    "    \"phone\": \"0375686583\",\n",
    "    \"address\": \"Binh Dinh\",\n",
    "    \"dob\": \"2005-06-04\",\n",
    "    \"gender\": \"Male\",\n",
    "    \"typeuser\": \"Manager\",\n",
    "    \"lastlogin\": \"2025-06-13T15:22:21.227Z\",\n",
    "    \"isverified\": False,\n",
    "    \"resetpasswordtoken\": \"\",\n",
    "    \"resetpasswordexpireat\": \"2025-06-13T15:22:21.227Z\",\n",
    "    \"verificationtoken\": \"\",\n",
    "    \"verificationtokenexpireat\": \"2025-06-13T15:22:21.227Z\",\n",
    "    \"password\": \"123456\",\n",
    "    \"avatar\": \"\",\n",
    "    \"approval_votes\": [],\n",
    "    \"email\": \"quantoaicong@gmail.com\",\n",
    "  },\n",
    "  {\n",
    "    \"name\": \"Tran Nguyen Hoang Long\",\n",
    "    \"phone\": \"0375686583\",\n",
    "    \"address\": \"Binh Dinh\",\n",
    "    \"dob\": \"2005-06-04\",\n",
    "    \"gender\": \"Male\",\n",
    "    \"typeuser\": \"Manager\",\n",
    "    \"lastlogin\": \"2025-06-13T15:22:21.227Z\",\n",
    "    \"isverified\": False,\n",
    "    \"resetpasswordtoken\": \"\",\n",
    "    \"resetpasswordexpireat\": \"2025-06-13T15:22:21.227Z\",\n",
    "    \"verificationtoken\": \"\",\n",
    "    \"verificationtokenexpireat\": \"2025-06-13T15:22:21.227Z\",\n",
    "    \"password\": \"123456\",\n",
    "    \"avatar\": \"\",\n",
    "    \"approval_votes\": [],\n",
    "    \"email\": \"long@gmail.com\",\n",
    "    },  \n",
    "]"
   ]
  },
  {
   "cell_type": "code",
   "execution_count": 15,
   "id": "9980d078",
   "metadata": {},
   "outputs": [
    {
     "name": "stdout",
     "output_type": "stream",
     "text": [
      "{'data': {'id': 4, 'documentId': 'z0wuvfx0xohnj1ownrotnqgx', 'name': 'Phan Gia Huy', 'phone': '0375686583', 'email': 'quantoaicong@gmail.com', 'address': 'Binh Dinh', 'dob': '2005-06-04', 'gender': 'Male', 'avatar': '', 'createdAt': '2025-06-13T15:35:25.233Z', 'updatedAt': '2025-06-13T15:35:25.233Z', 'publishedAt': '2025-06-13T15:35:25.239Z', 'typeuser': 'Manager', 'lastlogin': '2025-06-13T15:22:21.227Z', 'isverified': False, 'resetpasswordtoken': '', 'resetpasswordexpireat': '2025-06-13T15:22:21.227Z', 'verificationtoken': '', 'verificationtokenexpireat': '2025-06-13T15:22:21.227Z'}, 'meta': {}}\n",
      "{'data': {'id': 6, 'documentId': 'eorqgjpchsi0f0gjh8bzninh', 'name': 'Tran Nguyen Hoang Long', 'phone': '0375686583', 'email': 'long@gmail.com', 'address': 'Binh Dinh', 'dob': '2005-06-04', 'gender': 'Male', 'avatar': '', 'createdAt': '2025-06-13T15:35:25.611Z', 'updatedAt': '2025-06-13T15:35:25.611Z', 'publishedAt': '2025-06-13T15:35:25.618Z', 'typeuser': 'Manager', 'lastlogin': '2025-06-13T15:22:21.227Z', 'isverified': False, 'resetpasswordtoken': '', 'resetpasswordexpireat': '2025-06-13T15:22:21.227Z', 'verificationtoken': '', 'verificationtokenexpireat': '2025-06-13T15:22:21.227Z'}, 'meta': {}}\n"
     ]
    }
   ],
   "source": [
    "for i in list_mgs: \n",
    "    new_entry = {\n",
    "        \"data\": i\n",
    "    }\n",
    "    response = requests.post(API_URL+\"managers\", json=new_entry, headers=headers)\n",
    "    print(response.json())"
   ]
  },
  {
   "cell_type": "code",
   "execution_count": null,
   "id": "973c5a59",
   "metadata": {},
   "outputs": [],
   "source": []
  }
 ],
 "metadata": {
  "kernelspec": {
   "display_name": "base",
   "language": "python",
   "name": "python3"
  },
  "language_info": {
   "codemirror_mode": {
    "name": "ipython",
    "version": 3
   },
   "file_extension": ".py",
   "mimetype": "text/x-python",
   "name": "python",
   "nbconvert_exporter": "python",
   "pygments_lexer": "ipython3",
   "version": "3.12.4"
  }
 },
 "nbformat": 4,
 "nbformat_minor": 5
}
