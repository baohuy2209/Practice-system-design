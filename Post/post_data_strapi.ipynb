{
 "cells": [
  {
   "cell_type": "markdown",
   "id": "00c91112",
   "metadata": {},
   "source": [
    "## POST DATA TO STRAPI  "
   ]
  },
  {
   "cell_type": "code",
   "execution_count": 9,
   "id": "a2eb9af2",
   "metadata": {},
   "outputs": [],
   "source": [
    "import requests\n",
    "API_URL = \"https://sad1.data4life.top/api/\"\n",
    "TOKEN = \"106dad8048b81fb9bc83e5ca3132ec207c35bd661d70241aa3cce1379df25793e85c48b34f8c686786ebccccadbf32b93500a6b3f562c0f10439f6d6deb3e56202bd837e2d2305c528526bbba1d715f1850156f65972e133dd4c1ad45d7d1129209e3a4b097a5bb12500d57d20f5ef15eb9c726f3d77300a0cd18dd67ac22482\"\n",
    "headers = {\"Authorization\": f\"Bearer {TOKEN}\", \"Content-Type\": \"application/json\"}"
   ]
  },
  {
   "cell_type": "code",
   "execution_count": 10,
   "id": "e2186ef1",
   "metadata": {},
   "outputs": [
    {
     "data": {
      "text/plain": [
       "[{'id': 2,\n",
       "  'documentId': 'kd6pmxcye6arltkcgy97gv65',\n",
       "  'description': 'Mượn cho phòng học A.809',\n",
       "  'createdAt': '2025-06-02T13:47:56.329Z',\n",
       "  'updatedAt': '2025-06-02T13:47:58.872Z',\n",
       "  'publishedAt': '2025-06-02T13:47:58.889Z',\n",
       "  'timeborrow': None,\n",
       "  'studentcode': None,\n",
       "  'studentname': None,\n",
       "  'class': None,\n",
       "  'major': None,\n",
       "  'faculty': None,\n",
       "  'borrow_details': [{'id': 9,\n",
       "    'documentId': 's8iw4pjb8mwnida65jim1oxs',\n",
       "    'createdAt': '2025-06-02T13:49:21.540Z',\n",
       "    'updatedAt': '2025-06-02T13:49:23.347Z',\n",
       "    'publishedAt': '2025-06-02T13:49:23.362Z',\n",
       "    'stt': '1',\n",
       "    'quantity': None,\n",
       "    'publishdate': None,\n",
       "    'plannedtimereturn': None,\n",
       "    'equipmentname': None,\n",
       "    'roomname': None},\n",
       "   {'id': 11,\n",
       "    'documentId': 'quiuwuep7pwip4ttokpnpna5',\n",
       "    'createdAt': '2025-06-02T13:56:35.173Z',\n",
       "    'updatedAt': '2025-06-02T13:56:35.173Z',\n",
       "    'publishedAt': '2025-06-02T13:56:35.191Z',\n",
       "    'stt': '2',\n",
       "    'quantity': None,\n",
       "    'publishdate': None,\n",
       "    'plannedtimereturn': None,\n",
       "    'equipmentname': None,\n",
       "    'roomname': None}],\n",
       "  'student': None,\n",
       "  'approval_vote': None,\n",
       "  'equipment_receipt': None,\n",
       "  'report_violate': None}]"
      ]
     },
     "execution_count": 10,
     "metadata": {},
     "output_type": "execute_result"
    }
   ],
   "source": [
    "response = requests.get(API_URL+\"borrow-requests?populate=*\", headers=headers)\n",
    "response.json()['data']"
   ]
  },
  {
   "cell_type": "code",
   "execution_count": 11,
   "id": "433a7a34",
   "metadata": {},
   "outputs": [],
   "source": [
    "new_entry= {\n",
    "  \"data\": {\n",
    "    \"name\": \"Nguyễn Bảo Huy\",\n",
    "    \"phone\": \"0375686583\",\n",
    "    \"address\": \"Phú Yên\",\n",
    "    \"gender\": \"Nữ\",\n",
    "    \"dob\": \"2004-06-02\",\n",
    "    \"typeuser\": \"Student\",\n",
    "    \"lastlogin\": \"2025-06-02T16:14:08.267Z\",\n",
    "    \"isverified\": False,\n",
    "    \"resetpasswordtoken\": \"\",\n",
    "    \"resetpasswordexpireat\": \"2025-06-02T16:14:08.267Z\",\n",
    "    \"verificationtoken\": \"\",\n",
    "    \"verificationtokenexpireat\": \"2025-06-02T16:14:08.267Z\",\n",
    "    \"password\": \"123456\",\n",
    "    \"avatar\": \"\",\n",
    "    \"studentcode\": \"K234111435\",\n",
    "    \"faculty\": \"FIS\",\n",
    "    \"numberviolations\": 8,\n",
    "    \"major\": \"E-commerce\",\n",
    "    \"class\": \"K23411\",\n",
    "    \"borrow_requests\": [],\n",
    "    \"email\": \"huynguyen002311@gmail.com\",\n",
    "    \"locale\": \"US\",\n",
    "  },\n",
    "}"
   ]
  },
  {
   "cell_type": "code",
   "execution_count": 12,
   "id": "6ad76cad",
   "metadata": {},
   "outputs": [
    {
     "data": {
      "text/plain": [
       "{'data': {'id': 27,\n",
       "  'documentId': 'rn4ks1f57blkiclc3rvrk7nu',\n",
       "  'name': 'Nguyễn Bảo Huy',\n",
       "  'createdAt': '2025-06-06T12:43:38.530Z',\n",
       "  'updatedAt': '2025-06-06T12:43:38.530Z',\n",
       "  'publishedAt': '2025-06-06T12:43:38.546Z',\n",
       "  'locale': 'en',\n",
       "  'email': 'huynguyen002311@gmail.com',\n",
       "  'phone': '0375686583',\n",
       "  'address': 'Phú Yên',\n",
       "  'gender': 'Nữ',\n",
       "  'dob': '2004-06-02',\n",
       "  'password': '123456',\n",
       "  'avatar': '',\n",
       "  'major': 'E-commerce',\n",
       "  'class': 'K23411',\n",
       "  'typeuser': 'Student',\n",
       "  'lastlogin': '2025-06-02T16:14:08.267Z',\n",
       "  'isverified': False,\n",
       "  'resetpasswordtoken': '',\n",
       "  'resetpasswordexpireat': '2025-06-02T16:14:08.267Z',\n",
       "  'verificationtoken': '',\n",
       "  'verificationtokenexpireat': '2025-06-02T16:14:08.267Z',\n",
       "  'studentcode': 'K234111435',\n",
       "  'numberviolations': 8,\n",
       "  'faculty': 'FIS'},\n",
       " 'meta': {}}"
      ]
     },
     "execution_count": 12,
     "metadata": {},
     "output_type": "execute_result"
    }
   ],
   "source": [
    "response = requests.post(API_URL+\"students\", json=new_entry, headers=headers)\n",
    "response.json()"
   ]
  },
  {
   "cell_type": "code",
   "execution_count": null,
   "id": "8110cc74",
   "metadata": {},
   "outputs": [],
   "source": []
  }
 ],
 "metadata": {
  "kernelspec": {
   "display_name": "base",
   "language": "python",
   "name": "python3"
  },
  "language_info": {
   "codemirror_mode": {
    "name": "ipython",
    "version": 3
   },
   "file_extension": ".py",
   "mimetype": "text/x-python",
   "name": "python",
   "nbconvert_exporter": "python",
   "pygments_lexer": "ipython3",
   "version": "3.12.4"
  }
 },
 "nbformat": 4,
 "nbformat_minor": 5
}
