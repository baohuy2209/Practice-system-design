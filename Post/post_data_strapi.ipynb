{
 "cells": [
  {
   "cell_type": "markdown",
   "id": "00c91112",
   "metadata": {},
   "source": [
    "## POST DATA TO STRAPI  "
   ]
  },
  {
   "cell_type": "code",
   "execution_count": 27,
   "id": "a2eb9af2",
   "metadata": {},
   "outputs": [],
   "source": [
    "import requests\n",
    "API_URL = \"https://sad1.data4life.top/api/\"\n",
    "TOKEN = \"377f85e94f895a74a845219a58f8cbc7d838f4bb360d147dfde755802c0646d88f0d69e2db62a40cb6dbda80f035e7f3b63fb77a47158fc8f42d827744999f5e417c12324af7a3fa8eb0ada13f656208946bc8d4fa5c451b1cef3937a4774a5516a88835869513e5087d6158feca17119a8036f1cd88cd1aeab5321c49ac8734\"\n",
    "headers = {\"Authorization\": f\"Bearer {TOKEN}\", \"Content-Type\": \"application/json\"}"
   ]
  },
  {
   "cell_type": "code",
   "execution_count": 28,
   "id": "e2186ef1",
   "metadata": {},
   "outputs": [
    {
     "data": {
      "text/plain": [
       "[{'id': 2,\n",
       "  'documentId': 'kd6pmxcye6arltkcgy97gv65',\n",
       "  'Description': 'Mượn cho phòng học A.809',\n",
       "  'TimeBorrow': '2025-06-02T01:30:00.000Z',\n",
       "  'createdAt': '2025-06-02T13:47:56.329Z',\n",
       "  'updatedAt': '2025-06-02T13:47:58.872Z',\n",
       "  'publishedAt': '2025-06-02T13:47:58.889Z',\n",
       "  'borrow_details': [{'id': 9,\n",
       "    'documentId': 's8iw4pjb8mwnida65jim1oxs',\n",
       "    'PublishDate': '2025-06-03',\n",
       "    'createdAt': '2025-06-02T13:49:21.540Z',\n",
       "    'updatedAt': '2025-06-02T13:49:23.347Z',\n",
       "    'publishedAt': '2025-06-02T13:49:23.362Z',\n",
       "    'STT': '1',\n",
       "    'PlannedTimeReturn': None,\n",
       "    'Quantity': None},\n",
       "   {'id': 11,\n",
       "    'documentId': 'quiuwuep7pwip4ttokpnpna5',\n",
       "    'PublishDate': None,\n",
       "    'createdAt': '2025-06-02T13:56:35.173Z',\n",
       "    'updatedAt': '2025-06-02T13:56:35.173Z',\n",
       "    'publishedAt': '2025-06-02T13:56:35.191Z',\n",
       "    'STT': '2',\n",
       "    'PlannedTimeReturn': None,\n",
       "    'Quantity': None}],\n",
       "  'student': {'id': 19,\n",
       "   'documentId': 'sthpvr00xzybxa40ab57xrkf',\n",
       "   'Name': 'Nguyễn Bảo Huy',\n",
       "   'createdAt': '2025-06-02T15:01:05.483Z',\n",
       "   'updatedAt': '2025-06-02T15:01:05.483Z',\n",
       "   'publishedAt': '2025-06-02T15:01:05.509Z',\n",
       "   'locale': 'en',\n",
       "   'Email': 'huynb23411@st.uel.edu.vn',\n",
       "   'Phone': '0375686583',\n",
       "   'Address': 'Quy Nhơn, Bình Định',\n",
       "   'Gender': 'Nam',\n",
       "   'DOB': '2005-09-22',\n",
       "   'TypeUser': 'Student',\n",
       "   'LastLogin': '2025-06-03T01:15:00.000Z',\n",
       "   'IsVerified': False,\n",
       "   'ResetPasswordToken': None,\n",
       "   'ResetPasswordExpireAt': None,\n",
       "   'VerificationToken': None,\n",
       "   'VerificationTokenExpireAt': None,\n",
       "   'Avatar': None,\n",
       "   'StudentCode': 'K234111333',\n",
       "   'Falculty': 'FIS',\n",
       "   'NumberViolations': 5,\n",
       "   'Major': 'E-commerce',\n",
       "   'Class': 'K23411'},\n",
       "  'approval_vote': None,\n",
       "  'equipment_receipt': None,\n",
       "  'report_violate': None}]"
      ]
     },
     "execution_count": 28,
     "metadata": {},
     "output_type": "execute_result"
    }
   ],
   "source": [
    "response = requests.get(API_URL+\"borrow-requests?populate=*\", headers=headers)\n",
    "response.json()['data']"
   ]
  },
  {
   "cell_type": "code",
   "execution_count": 33,
   "id": "433a7a34",
   "metadata": {},
   "outputs": [],
   "source": [
    "new_entry= {\n",
    "  \"data\": {\n",
    "    \"Name\": \"Đặng Ngọc Hoài Phương\",\n",
    "    \"Email\": \"phuongdnh@st.uel.edu.vn\",\n",
    "    \"Phone\": \"0375686583\",\n",
    "    \"Address\": \"Phú Yên\",\n",
    "    \"Gender\": \"Nữ\",\n",
    "    \"DOB\": \"2004-06-02\",\n",
    "    \"TypeUser\": \"Student\",\n",
    "    \"LastLogin\": \"2025-06-02T16:14:08.267Z\",\n",
    "    \"IsVerified\": False,\n",
    "    \"ResetPasswordToken\": \"\",\n",
    "    \"ResetPasswordExpireAt\": \"2025-06-02T16:14:08.267Z\",\n",
    "    \"VerificationToken\": \"\",\n",
    "    \"VerificationTokenExpireAt\": \"2025-06-02T16:14:08.267Z\",\n",
    "    \"Password\": \"haha\",\n",
    "    \"Avatar\": \"\",\n",
    "    \"StudentCode\": \"K234111435\",\n",
    "    \"Falculty\": \"FIS\",\n",
    "    \"NumberViolations\": 8,\n",
    "    \"Major\": \"E-commerce\",\n",
    "    \"Class\": \"K23411\",\n",
    "    \"borrow_requests\": [],\n",
    "    \"report_violates\": [],\n",
    "    \"locale\": \"US\",\n",
    "  },\n",
    "}"
   ]
  },
  {
   "cell_type": "code",
   "execution_count": 34,
   "id": "6ad76cad",
   "metadata": {},
   "outputs": [
    {
     "data": {
      "text/plain": [
       "{'data': None,\n",
       " 'error': {'status': 400,\n",
       "  'name': 'ValidationError',\n",
       "  'message': 'Invalid key Name',\n",
       "  'details': {'key': 'Name', 'source': 'body'}}}"
      ]
     },
     "execution_count": 34,
     "metadata": {},
     "output_type": "execute_result"
    }
   ],
   "source": [
    "response = requests.post(API_URL+\"borrow-requests\", json=new_entry, headers=headers)\n",
    "response.json()"
   ]
  },
  {
   "cell_type": "code",
   "execution_count": null,
   "id": "8110cc74",
   "metadata": {},
   "outputs": [],
   "source": []
  }
 ],
 "metadata": {
  "kernelspec": {
   "display_name": "base",
   "language": "python",
   "name": "python3"
  },
  "language_info": {
   "codemirror_mode": {
    "name": "ipython",
    "version": 3
   },
   "file_extension": ".py",
   "mimetype": "text/x-python",
   "name": "python",
   "nbconvert_exporter": "python",
   "pygments_lexer": "ipython3",
   "version": "3.12.4"
  }
 },
 "nbformat": 4,
 "nbformat_minor": 5
}
